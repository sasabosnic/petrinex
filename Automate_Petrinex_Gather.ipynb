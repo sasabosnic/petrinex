{
 "cells": [
  {
   "cell_type": "markdown",
   "id": "c00da290",
   "metadata": {},
   "source": [
    "## Petrinex Data Pipeline\n",
    "### 2021-04-17 Colin Bieberstein"
   ]
  },
  {
   "cell_type": "markdown",
   "id": "ded37eac",
   "metadata": {},
   "source": [
    "### Download Alberta Public Data - (Infrastrure Data) from https://www.petrinex.ca/PD/Pages/APD.aspx \n"
   ]
  },
  {
   "cell_type": "code",
   "execution_count": 19,
   "id": "7b29af43",
   "metadata": {},
   "outputs": [],
   "source": [
    "import time\n",
    "import os as os\n",
    "import shutil as shu\n",
    "from bs4 import BeautifulSoup\n",
    "from requests_html import HTMLSession\n",
    "from urllib.parse import urljoin\n",
    "import zipfile\n",
    "import pyarrow.csv as pv\n",
    "import pyarrow.parquet as pq\n",
    "import pandas as pd\n",
    "from icecream import ic\n"
   ]
  },
  {
   "cell_type": "code",
   "execution_count": 20,
   "id": "e7e33dca",
   "metadata": {},
   "outputs": [],
   "source": [
    "# Pandas Notebook formatting\n",
    "pd.set_option('display.max_rows', 255)\n",
    "pd.set_option('display.max_columns', 30)\n",
    "\n",
    "# Matplotlib Notebook Inline diagrams\n",
    "%matplotlib inline\n"
   ]
  },
  {
   "cell_type": "markdown",
   "id": "53350522",
   "metadata": {},
   "source": [
    "### 0. Get ZIP file from Petrinex website with all the Infrastructure + Volumetric data included."
   ]
  },
  {
   "cell_type": "code",
   "execution_count": 23,
   "id": "01257a7a",
   "metadata": {},
   "outputs": [
    {
     "name": "stdout",
     "output_type": "stream",
     "text": [
      "DownloadFile.zip\n"
     ]
    }
   ],
   "source": [
    "! python scrape.py\n",
    "\n",
    "# NOTE You can't use this code inside a notebook so its in scrape.py for convienence.\n",
    "\n",
    "# petrinex_pubdata = \"https://www.petrinex.gov.ab.ca/PublicData\"\n",
    "# def get_all_forms(url):\n",
    "#     \"\"\"Returns all form tags found on a web page's `url` \"\"\"\n",
    "#     # GET request\n",
    "#     res = session.get(url)\n",
    "#     # for javascript driven website -> res.html.html will contain the html\n",
    "#     # after javascript execution (render)\n",
    "#     res.html.render()\n",
    "#     soup = BeautifulSoup(res.html.html, \"html.parser\")\n",
    "#     return soup.find_all(\"form\")\n",
    "\n",
    "\n",
    "# def get_form_details(form):\n",
    "#     \"\"\"Returns the HTML details of a form,\n",
    "#     including action, method and list of form controls (inputs, etc)\"\"\"\n",
    "#     details = {}\n",
    "#     # get the form action (requested URL)\n",
    "#     action = form.attrs.get(\"action\").lower()\n",
    "#     # get the form method (POST, GET, DELETE, etc)\n",
    "#     # if not specified, GET is the default in HTML\n",
    "#     method = form.attrs.get(\"method\", \"get\").lower()\n",
    "#     # get all form inputs\n",
    "#     inputs = []\n",
    "#     for input_tag in form.find_all(\"input\"):\n",
    "#         # get type of input form control\n",
    "#         input_type = input_tag.attrs.get(\"type\", \"text\")\n",
    "#         # get name attribute\n",
    "#         input_name = input_tag.attrs.get(\"name\")\n",
    "#         # get the default value of that input tag\n",
    "#         input_value = input_tag.attrs.get(\"value\", \"\")\n",
    "#         # add everything to that list\n",
    "#         inputs.append({\"type\": input_type, \"name\": input_name, \"value\": input_value})\n",
    "#     # put everything to the resulting dictionary\n",
    "#     details[\"action\"] = action\n",
    "#     details[\"method\"] = method\n",
    "#     details[\"inputs\"] = inputs\n",
    "#     return details\n",
    "\n",
    "\n",
    "# def download_zip_file(s, url, params):\n",
    "#     local_filename = url.split(\"/\")[-1]\n",
    "#     local_filename += \".zip\"\n",
    "\n",
    "#     # NOTE the stream=True parameter below\n",
    "#     with s.get(url, stream=True, params=params) as r:\n",
    "#         r.raise_for_status()\n",
    "#         with open(local_filename, \"wb\") as f:\n",
    "#             for chunk in r.iter_content(chunk_size=8192):\n",
    "#                 # If you have chunk encoded response uncomment if\n",
    "#                 # and set chunk_size parameter to None.\n",
    "#                 # if chunk:\n",
    "#                 f.write(chunk)\n",
    "#     return local_filename\n",
    "\n",
    "\n",
    "# # initialize an HTTP session\n",
    "# session = HTMLSession()\n",
    "# res = session.get(petrinex_pubdata)\n",
    "# res.html.render()\n",
    "\n",
    "# # Get the first form from the site\n",
    "# form = get_all_forms(petrinex_pubdata)[0]\n",
    "# form_details = get_form_details(form)\n",
    "\n",
    "# # Prepare data to submit\n",
    "# data = \"\"\n",
    "# data = {}\n",
    "# for input_tag in form_details[\"inputs\"]:\n",
    "#     nm = input_tag[\"name\"]\n",
    "#     va = input_tag[\"value\"]\n",
    "#     ty = input_tag[\"type\"]\n",
    "#     # Apply our custom logic for the Petrinex form\n",
    "#     if ty == \"hidden\":\n",
    "#         # if it's hidden, and not one of these use the default value\n",
    "#         if \"Download.DownloadCountry\" in nm:\n",
    "#             data[nm] = \"Canada\"\n",
    "#         elif \"Download.DownloadIP\" in nm:\n",
    "#             #\n",
    "#             # Need to make this YOUR external IP.\n",
    "#             #\n",
    "#             data[nm] = \"8.8.8.8\"  \n",
    "#             #\n",
    "#         elif \"Download.VolumetricDateFrom\" in nm:\n",
    "#             data[nm] = \"2017-01-01\"\n",
    "#         elif \"IsChecked\" in nm:\n",
    "#             pass\n",
    "#             # Note the Petrinex site submits each of the checkbox params twice\n",
    "#             # once as true (if checked) and again as false (hidden) no freaking\n",
    "#             # clue whats up with that.  We're just skipping those hidden fields\n",
    "#             # to see if it works\n",
    "#         else:\n",
    "#             data[nm] = va\n",
    "#     elif ty != \"submit\":\n",
    "#         if nm is not None:\n",
    "#             if \"IsChecked\" in nm:\n",
    "#                 data[nm] = \"true\"\n",
    "#             elif \"FileFormat\" in nm:\n",
    "#                 data[nm] = \"csv\"\n",
    "# time.sleep(0.1)\n",
    "\n",
    "\n",
    "# # Get the details that the site requires. (On the page it calls a seperate API via jquery)\n",
    "# # We work around by hardcoding our external IP and matching location data. Then submitting \n",
    "# # the request to download a zip file (it returns a guid used to actually download.)\n",
    "\n",
    "# url = urljoin(petrinex_pubdata, \"/PublicData/Files/RequestZipFiles\")\n",
    "# session.headers.update(\n",
    "#     {\n",
    "#         \"Accept\": \"content-type: application/json; charset=utf-8\",\n",
    "#         \"Accept-Encoding\": \"gzip, deflate, br\",\n",
    "#         \"Accept-Language\": \"en-US,en;q=0.5\",\n",
    "#         \"Connection\": \"keep-alive\",\n",
    "#         \"Content-Type\": \"application/x-www-form-urlencoded; charset=UTF-8\",\n",
    "#         \"Origin\": \"https://www.petrinex.gov.ab.ca\",\n",
    "#         \"referrer\": \"https://www.petrinex.gov.ab.ca/PublicData\",\n",
    "#         \"X-Requested-With\": \"XMLHttpRequest\",\n",
    "#     }\n",
    "# )\n",
    "# res2 = session.post(url, data=data)\n",
    "# time.sleep(0.1)\n",
    "# json = res2.json()\n",
    "# time.sleep(0.1)\n",
    "\n",
    "# # Use the json data from the last request to build a payload for this request.\n",
    "# data = {\"arg_strGUID\": json[\"DownloadGUID\"]}\n",
    "# url = urljoin(petrinex_pubdata, \"/PublicData/Files/DownloadFile\")\n",
    "# print(\"Downloading, takes 8-10 minutes...\")\n",
    "# filename = download_zip_file(session, url, data)\n",
    "# print(filename)\n"
   ]
  },
  {
   "cell_type": "markdown",
   "id": "3bd87b2f",
   "metadata": {},
   "source": [
    "### 1. Extract from ZIP file in current dir to ./temp/"
   ]
  },
  {
   "cell_type": "code",
   "execution_count": 24,
   "id": "7c926254",
   "metadata": {},
   "outputs": [],
   "source": [
    "with zipfile.ZipFile(\"./DownloadFile.zip\", 'r') as zip_ref:\n",
    "    zip_ref.extractall(\"./temp/\")"
   ]
  },
  {
   "cell_type": "markdown",
   "id": "e306cf76",
   "metadata": {},
   "source": [
    "### 2. Process the extracted .csv.zip files into parquet files"
   ]
  },
  {
   "cell_type": "code",
   "execution_count": 25,
   "id": "4930ed87",
   "metadata": {
    "scrolled": true
   },
   "outputs": [
    {
     "name": "stderr",
     "output_type": "stream",
     "text": [
      "ic| entry.name: 'Business Associate.csv.zip'\n",
      "ic| entry.name: 'Facility Infrastructure.csv.zip'\n",
      "ic| entry.name: 'Facility Licence.csv.zip'\n",
      "ic| entry.name: 'Facility Operator History.csv.zip'\n",
      "ic| entry.name: 'Vol_2017-01.csv.zip'\n",
      "ic| entry.name: 'Vol_2017-02.csv.zip'\n",
      "ic| entry.name: 'Vol_2017-03.csv.zip'\n",
      "ic| entry.name: 'Vol_2017-04.csv.zip'\n",
      "ic| entry.name: 'Vol_2017-05.csv.zip'\n",
      "ic| entry.name: 'Vol_2017-06.csv.zip'\n",
      "ic| entry.name: 'Vol_2017-07.csv.zip'\n",
      "ic| entry.name: 'Vol_2017-08.csv.zip'\n",
      "ic| entry.name: 'Vol_2017-09.csv.zip'\n",
      "ic| entry.name: 'Vol_2017-10.csv.zip'\n",
      "ic| entry.name: 'Vol_2017-11.csv.zip'\n",
      "ic| entry.name: 'Vol_2017-12.csv.zip'\n",
      "ic| entry.name: 'Vol_2018-01.csv.zip'\n",
      "ic| entry.name: 'Vol_2018-02.csv.zip'\n",
      "ic| entry.name: 'Vol_2018-03.csv.zip'\n",
      "ic| entry.name: 'Vol_2018-04.csv.zip'\n",
      "ic| entry.name: 'Vol_2018-05.csv.zip'\n",
      "ic| entry.name: 'Vol_2018-06.csv.zip'\n",
      "ic| entry.name: 'Vol_2018-07.csv.zip'\n",
      "ic| entry.name: 'Vol_2018-08.csv.zip'\n",
      "ic| entry.name: 'Vol_2018-09.csv.zip'\n",
      "ic| entry.name: 'Vol_2018-10.csv.zip'\n",
      "ic| entry.name: 'Vol_2018-11.csv.zip'\n",
      "ic| entry.name: 'Vol_2018-12.csv.zip'\n",
      "ic| entry.name: 'Vol_2019-01.csv.zip'\n",
      "ic| entry.name: 'Vol_2019-02.csv.zip'\n",
      "ic| entry.name: 'Vol_2019-03.csv.zip'\n",
      "ic| entry.name: 'Vol_2019-04.csv.zip'\n",
      "ic| entry.name: 'Vol_2019-05.csv.zip'\n",
      "ic| entry.name: 'Vol_2019-06.csv.zip'\n",
      "ic| entry.name: 'Vol_2019-07.csv.zip'\n",
      "ic| entry.name: 'Vol_2019-08.csv.zip'\n",
      "ic| entry.name: 'Vol_2019-09.csv.zip'\n",
      "ic| entry.name: 'Vol_2019-10.csv.zip'\n",
      "ic| entry.name: 'Vol_2019-11.csv.zip'\n",
      "ic| entry.name: 'Vol_2019-12.csv.zip'\n",
      "ic| entry.name: 'Vol_2020-01.csv.zip'\n",
      "ic| entry.name: 'Vol_2020-02.csv.zip'\n",
      "ic| entry.name: 'Vol_2020-03.csv.zip'\n",
      "ic| entry.name: 'Vol_2020-04.csv.zip'\n",
      "ic| entry.name: 'Vol_2020-05.csv.zip'\n",
      "ic| entry.name: 'Vol_2020-06.csv.zip'\n",
      "ic| entry.name: 'Vol_2020-07.csv.zip'\n",
      "ic| entry.name: 'Vol_2020-08.csv.zip'\n",
      "ic| entry.name: 'Vol_2020-09.csv.zip'\n",
      "ic| entry.name: 'Vol_2020-10.csv.zip'\n",
      "ic| entry.name: 'Vol_2020-11.csv.zip'\n",
      "ic| entry.name: 'Vol_2020-12.csv.zip'\n",
      "ic| entry.name: 'Vol_2021-01.csv.zip'\n",
      "ic| entry.name: 'Vol_2021-02.csv.zip'\n",
      "ic| entry.name: 'Well Infrastructure.csv.zip'\n",
      "ic| entry.name: 'Well Licence.csv.zip'\n",
      "ic| entry.name: 'Well to Facility Link.csv.zip'\n"
     ]
    }
   ],
   "source": [
    "with os.scandir(\"./temp/\") as it:\n",
    "    for entry in it:\n",
    "        if entry.name.endswith(\".csv.zip\") and entry.is_file():           \n",
    "            # Read the zipped csv files\n",
    "            ic(entry.name)\n",
    "            table = pd.read_csv(entry.path, \n",
    "                                header=0, \n",
    "                                compression='zip', \n",
    "                                sep=',', \n",
    "                                quotechar='\"', \n",
    "                                low_memory=False)\n",
    "            \n",
    "            # Save the file in parquet format using gzip compression\n",
    "            table.to_parquet(entry.name.replace(\".csv.\",\".parquet.\").replace(\".zip\",'.gz'),\n",
    "                             compression='gzip')\n",
    "            \n",
    "            # Explicitly free memory\n",
    "            del(table)\n",
    "            \n",
    "# Cleanup the ./temp/ directory and files\n",
    "shu.rmtree(\"./temp\")\n",
    "# Should delete the zip file\n"
   ]
  },
  {
   "cell_type": "markdown",
   "id": "06b8e87e",
   "metadata": {},
   "source": [
    "### Zip up the results for fun"
   ]
  },
  {
   "cell_type": "code",
   "execution_count": 26,
   "id": "a791db29",
   "metadata": {},
   "outputs": [],
   "source": [
    "# specifying the zip file name\n",
    "zip_name = \"parquet_petrinex_data.zip\"\n",
    "  \n",
    "# writing files to a zipfile\n",
    "with zipfile.ZipFile(zip_name,'w') as zip:\n",
    "    with os.scandir(\"./\") as it:\n",
    "        for entry in it:\n",
    "            if entry.name.endswith(\".parquet.gz\") and entry.is_file():  \n",
    "                # Some optimistic (shitty) thinking here zip + delete w/o checking either for success\n",
    "                # aka non-production code.\n",
    "                zip.write(entry.name)\n",
    "                os.remove(entry.path)"
   ]
  },
  {
   "cell_type": "markdown",
   "id": "7853d172",
   "metadata": {},
   "source": [
    "# TO DO"
   ]
  },
  {
   "cell_type": "markdown",
   "id": "18749999",
   "metadata": {},
   "source": [
    "* Add in code to change to categorical / etc column types before writing parquet files. Use a pattern like name contains ('Business Associates')... ('VOl_YYYY_NN_DD') etc.\n",
    "* Add in even rudimentary error handling, right now it just fails and you use the notebook to troubleshoot\n",
    "* Refactor the download code to something re-usable, right now it has some very specific logic for Petrinex\n",
    "* Refactor the Download_zip_file code to just download a file, but to accept the name as a parameter instead of trusting the remote name (and appending .zip)\n",
    "* Also note... the download code only works externally to a notebook because the notebook has an async loop going.   FIx that or just ! python scrape.py instead\n"
   ]
  },
  {
   "cell_type": "code",
   "execution_count": null,
   "id": "4ef65f77",
   "metadata": {},
   "outputs": [],
   "source": []
  }
 ],
 "metadata": {
  "kernelspec": {
   "display_name": "base",
   "language": "python",
   "name": "base"
  },
  "language_info": {
   "codemirror_mode": {
    "name": "ipython",
    "version": 3
   },
   "file_extension": ".py",
   "mimetype": "text/x-python",
   "name": "python",
   "nbconvert_exporter": "python",
   "pygments_lexer": "ipython3",
   "version": "3.8.5"
  }
 },
 "nbformat": 4,
 "nbformat_minor": 5
}
